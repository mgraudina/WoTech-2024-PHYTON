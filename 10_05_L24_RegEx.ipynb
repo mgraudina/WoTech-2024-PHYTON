{
  "nbformat": 4,
  "nbformat_minor": 0,
  "metadata": {
    "colab": {
      "provenance": [],
      "authorship_tag": "ABX9TyP5RlUcOq+F3AOvrnuYKr7H",
      "include_colab_link": true
    },
    "kernelspec": {
      "name": "python3",
      "display_name": "Python 3"
    },
    "language_info": {
      "name": "python"
    }
  },
  "cells": [
    {
      "cell_type": "markdown",
      "metadata": {
        "id": "view-in-github",
        "colab_type": "text"
      },
      "source": [
        "<a href=\"https://colab.research.google.com/github/mgraudina/WoTech-2024-PHYTON/blob/main/10_05_L24_RegEx.ipynb\" target=\"_parent\"><img src=\"https://colab.research.google.com/assets/colab-badge.svg\" alt=\"Open In Colab\"/></a>"
      ]
    },
    {
      "cell_type": "markdown",
      "source": [
        "####Lesson 24 Topic: Introduction to REGEX in Python\n",
        "\n",
        "1. What is REGEX?\n",
        "2. re library in Python\n",
        "3. Pattern matching e-mail, phone numbers, URL's\n",
        "\n",
        "Farewell discussion! 💌"
      ],
      "metadata": {
        "id": "hj1WVsElgYFr"
      }
    },
    {
      "cell_type": "code",
      "execution_count": null,
      "metadata": {
        "id": "cvpP_RrFgUFV"
      },
      "outputs": [],
      "source": [
        "# https://docs.python.org/3/library/re.html"
      ]
    },
    {
      "cell_type": "code",
      "source": [
        "# A RegEx, or Regular Expression, is a sequence of characters that forms a search pattern.\n",
        "\n",
        "# RegEx can be used to check if a string contains the specified search pattern.\n",
        "\n",
        "# https://www.w3schools.com/python/python_regex.asp"
      ],
      "metadata": {
        "id": "L5-88Fwp4jf9"
      },
      "execution_count": null,
      "outputs": []
    },
    {
      "cell_type": "code",
      "source": [
        "import re # regular expression module"
      ],
      "metadata": {
        "id": "Ss_9pkXWgi9i"
      },
      "execution_count": null,
      "outputs": []
    },
    {
      "cell_type": "code",
      "source": [
        "text = \"\"\"\n",
        "Alice: 555-123-4567\n",
        "Bob: 333-987-6543\n",
        "Charlie: 777-555-88\n",
        "\"\"\""
      ],
      "metadata": {
        "id": "jX4zSim0lEnV"
      },
      "execution_count": null,
      "outputs": []
    },
    {
      "cell_type": "code",
      "source": [
        "text"
      ],
      "metadata": {
        "colab": {
          "base_uri": "https://localhost:8080/",
          "height": 36
        },
        "id": "ek6YdvDulRo4",
        "outputId": "cff380f6-0feb-4faa-c774-d48439fde9fe"
      },
      "execution_count": null,
      "outputs": [
        {
          "output_type": "execute_result",
          "data": {
            "text/plain": [
              "'\\nAlice: 555-123-4567\\nBob: 333-987-6543\\nCharlie: 777-555-88\\n'"
            ],
            "application/vnd.google.colaboratory.intrinsic+json": {
              "type": "string"
            }
          },
          "metadata": {},
          "execution_count": 3
        }
      ]
    },
    {
      "cell_type": "code",
      "source": [
        "# correct format 3-3-4\n",
        "\n",
        "pattern = r'\\d{3}-\\d{3}-\\d{4}' #figure out the pattern\n",
        "\n",
        "matches = re.findall(pattern, text)\n",
        "\n",
        "print(matches)\n",
        "\n",
        "# required output: 555-123-4367, 333-987-6543"
      ],
      "metadata": {
        "colab": {
          "base_uri": "https://localhost:8080/"
        },
        "id": "KV6CB198l1PQ",
        "outputId": "41ae4e9b-d3c4-48a1-f3cb-672e27b4b396"
      },
      "execution_count": null,
      "outputs": [
        {
          "output_type": "stream",
          "name": "stdout",
          "text": [
            "['555-123-4567', '333-987-6543']\n"
          ]
        }
      ]
    },
    {
      "cell_type": "code",
      "source": [
        "# re.search - first occurance of a pattern\n",
        "# re.findall - finds all the occurances\n",
        "# re.IGNORECASE - pattern matching is case-insensitive"
      ],
      "metadata": {
        "id": "PyxLB3CPlXE4"
      },
      "execution_count": null,
      "outputs": []
    },
    {
      "cell_type": "code",
      "source": [
        "# sample by MMari\n",
        "\n",
        "pattern = r'(\\d{3})-(\\d{3})-(\\d{1,4})'\n",
        "\n",
        "def correct_format(match):\n",
        "    part1, part2, part3 = match.groups()\n",
        "\n",
        "    if len(part3) < 4:\n",
        "        part3 = part3.zfill(4)\n",
        "\n",
        "    return f\"{part1}-{part2}-{part3}\"\n",
        "\n",
        "corrected_text = re.sub(pattern, correct_format, text)\n",
        "\n",
        "print(corrected_text)"
      ],
      "metadata": {
        "id": "u9DHLhSBlpHK"
      },
      "execution_count": null,
      "outputs": []
    },
    {
      "cell_type": "markdown",
      "source": [
        "Dates pattern matching"
      ],
      "metadata": {
        "id": "0ZCZSg3Wp6lO"
      }
    },
    {
      "cell_type": "code",
      "source": [
        "dates = \"\"\"\n",
        "My dates are: 05-10-2024 and 2022-10-05\n",
        "\"\"\"\n",
        "\n",
        "pattern2 = r\"\\d{2}-\\d{2}-\\d{4}\"\n",
        "\n",
        "matches2 = re.findall(pattern2, dates)\n",
        "\n",
        "print(matches2)\n"
      ],
      "metadata": {
        "colab": {
          "base_uri": "https://localhost:8080/"
        },
        "id": "ElWBiyrUosN8",
        "outputId": "fa0c2956-3ffd-4b9d-f3f7-0bb5fc421072"
      },
      "execution_count": null,
      "outputs": [
        {
          "output_type": "stream",
          "name": "stdout",
          "text": [
            "['05-10-2024']\n"
          ]
        }
      ]
    },
    {
      "cell_type": "markdown",
      "source": [
        "E-mail addresses matching"
      ],
      "metadata": {
        "id": "-YYepMysrrgX"
      }
    },
    {
      "cell_type": "code",
      "source": [
        "emails = \"\"\"\n",
        "Emails: liza@example.com, roberta@gmail.com, info@company.net\n",
        "\"\"\"\n",
        "\n",
        "my_interesting_letters = r'\\b[A-Za-z0-9._%+-]+@[A-Za-z0-9.-]+\\.[A-Z|a-z]{2,}\\b'\n",
        "\n",
        "# requested output ['liza@example.com', 'roberta@gmail.com', 'info@company.net']\n",
        "\n",
        "matches = re.findall(my_interesting_letters, emails)\n",
        "\n",
        "print(matches)\n"
      ],
      "metadata": {
        "colab": {
          "base_uri": "https://localhost:8080/"
        },
        "id": "ApVvTI7VrvVd",
        "outputId": "fe9e8e2f-08dd-4028-913c-440e43420882"
      },
      "execution_count": null,
      "outputs": [
        {
          "output_type": "stream",
          "name": "stdout",
          "text": [
            "['liza@example.com', 'roberta@gmail.com', 'info@company.net']\n"
          ]
        }
      ]
    }
  ]
}