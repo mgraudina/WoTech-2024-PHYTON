{
  "nbformat": 4,
  "nbformat_minor": 0,
  "metadata": {
    "colab": {
      "provenance": [],
      "authorship_tag": "ABX9TyNEOKQSxoJiQNfw7jlE2F2G",
      "include_colab_link": true
    },
    "kernelspec": {
      "name": "python3",
      "display_name": "Python 3"
    },
    "language_info": {
      "name": "python"
    }
  },
  "cells": [
    {
      "cell_type": "markdown",
      "metadata": {
        "id": "view-in-github",
        "colab_type": "text"
      },
      "source": [
        "<a href=\"https://colab.research.google.com/github/mgraudina/WoTech-2024-PHYTON/blob/main/09_14_L21_Numpy2.ipynb\" target=\"_parent\"><img src=\"https://colab.research.google.com/assets/colab-badge.svg\" alt=\"Open In Colab\"/></a>"
      ]
    },
    {
      "cell_type": "markdown",
      "source": [
        "####Lesson 21, Topic: Numpy || & Git commands\n",
        "\n",
        "1. Git commands in VS Code terminal (Git add, Git commit, Git push, Git checkout, Merge branches)\n",
        "2. Biased coin-toss game and coin landing on the side simulation\n",
        "3. Visualize histograms from Numpy arrays.\n",
        "\n",
        "Monte Carlo simulations and random walk:\n",
        "\n",
        "https://youtu.be/BfS2H1y6tzQ"
      ],
      "metadata": {
        "id": "lo4ck5aqAAiF"
      }
    },
    {
      "cell_type": "code",
      "execution_count": null,
      "metadata": {
        "id": "BSTcln7Yn2ay"
      },
      "outputs": [],
      "source": [
        "import numpy as np"
      ]
    },
    {
      "cell_type": "code",
      "source": [
        "coint = [\"heads\", \"tails\"] #list"
      ],
      "metadata": {
        "id": "HutLlfeNn-pp"
      },
      "execution_count": null,
      "outputs": []
    },
    {
      "cell_type": "code",
      "source": [
        "number_of_throws = 10000"
      ],
      "metadata": {
        "id": "vdF3lcRAoEav"
      },
      "execution_count": null,
      "outputs": []
    },
    {
      "cell_type": "code",
      "source": [
        "throws = np.random.choice(coint, number_of_throws)\n",
        "throws"
      ],
      "metadata": {
        "colab": {
          "base_uri": "https://localhost:8080/"
        },
        "collapsed": true,
        "id": "h9_sCSI7oIGC",
        "outputId": "839f1a54-5291-44f6-a3a2-3168cac5d1a6"
      },
      "execution_count": null,
      "outputs": [
        {
          "output_type": "execute_result",
          "data": {
            "text/plain": [
              "array(['tails', 'heads', 'heads', ..., 'heads', 'tails', 'tails'],\n",
              "      dtype='<U5')"
            ]
          },
          "metadata": {},
          "execution_count": 17
        }
      ]
    },
    {
      "cell_type": "code",
      "source": [
        "np.sum(throws==\"heads\")"
      ],
      "metadata": {
        "colab": {
          "base_uri": "https://localhost:8080/"
        },
        "id": "imYxbFktoZC1",
        "outputId": "f4ef56d0-9e0a-46c3-c995-9cc6b099bf72"
      },
      "execution_count": null,
      "outputs": [
        {
          "output_type": "execute_result",
          "data": {
            "text/plain": [
              "4983"
            ]
          },
          "metadata": {},
          "execution_count": 18
        }
      ]
    },
    {
      "cell_type": "code",
      "source": [
        "np.sum(throws==\"tails\")"
      ],
      "metadata": {
        "colab": {
          "base_uri": "https://localhost:8080/"
        },
        "id": "Qmf80ykKolpF",
        "outputId": "034fe62d-e2d4-4a43-d810-8e8ea2fc2fc4"
      },
      "execution_count": null,
      "outputs": [
        {
          "output_type": "execute_result",
          "data": {
            "text/plain": [
              "5017"
            ]
          },
          "metadata": {},
          "execution_count": 19
        }
      ]
    },
    {
      "cell_type": "code",
      "source": [
        "# https://numpy.org/doc/stable/reference/random/generated/numpy.random.choice.html"
      ],
      "metadata": {
        "id": "klVaGhYyo4TL"
      },
      "execution_count": null,
      "outputs": []
    },
    {
      "cell_type": "code",
      "source": [
        "probabilities = [0.3, 0.7] # p - probability factor"
      ],
      "metadata": {
        "id": "ETUgwwl7pDmE"
      },
      "execution_count": null,
      "outputs": []
    },
    {
      "cell_type": "code",
      "source": [
        "throws_with_p = np.random.choice(coint, number_of_throws, p=probabilities)\n",
        "throws_with_p"
      ],
      "metadata": {
        "colab": {
          "base_uri": "https://localhost:8080/"
        },
        "collapsed": true,
        "id": "Gt_dfq7XpRdq",
        "outputId": "ea06929b-c115-47e3-e732-535fbaa5a96f"
      },
      "execution_count": null,
      "outputs": [
        {
          "output_type": "execute_result",
          "data": {
            "text/plain": [
              "array(['tails', 'heads', 'heads', ..., 'tails', 'tails', 'tails'],\n",
              "      dtype='<U5')"
            ]
          },
          "metadata": {},
          "execution_count": 21
        }
      ]
    },
    {
      "cell_type": "code",
      "source": [
        "print(np.sum(throws_with_p==\"tails\"))\n",
        "print(np.sum(throws_with_p==\"heads\"))"
      ],
      "metadata": {
        "colab": {
          "base_uri": "https://localhost:8080/"
        },
        "id": "2E2hNI0CprY5",
        "outputId": "cd9437d8-98c3-4d07-d37e-3c2a8ec7f82a"
      },
      "execution_count": null,
      "outputs": [
        {
          "output_type": "stream",
          "name": "stdout",
          "text": [
            "5017\n",
            "4983\n"
          ]
        }
      ]
    },
    {
      "cell_type": "markdown",
      "source": [
        "### COIN LANDING ON A SIDE"
      ],
      "metadata": {
        "id": "xYVkttGHrMn-"
      }
    },
    {
      "cell_type": "code",
      "source": [
        "import numpy as np\n",
        "\n",
        "coint = [\"heads\", \"tails\", \"side\"]\n",
        "number_of_throws = 10000\n",
        "\n",
        "throws = np.random.choice(coint, number_of_throws)\n",
        "\n",
        "probabilities = [0.49165, 0.49165, 0.0167]\n",
        "throws_with_p = np.random.choice(coint, number_of_throws, p=probabilities)\n",
        "\n",
        "print('Tails:', np.sum(throws_with_p==\"tails\"))\n",
        "print('Heads:', np.sum(throws_with_p==\"heads\"))\n",
        "print('Side:', np.sum(throws_with_p==\"side\"))"
      ],
      "metadata": {
        "colab": {
          "base_uri": "https://localhost:8080/"
        },
        "id": "-br2VvAmpuue",
        "outputId": "153645a7-f27c-4826-c7ef-432278752aee"
      },
      "execution_count": null,
      "outputs": [
        {
          "output_type": "stream",
          "name": "stdout",
          "text": [
            "Tails: 4937\n",
            "Heads: 4910\n",
            "Side: 153\n"
          ]
        }
      ]
    },
    {
      "cell_type": "code",
      "source": [
        "unique, counts = np.unique(throws, return_counts=True)"
      ],
      "metadata": {
        "id": "-17CXQDUtZqE"
      },
      "execution_count": null,
      "outputs": []
    },
    {
      "cell_type": "code",
      "source": [
        "print(unique)"
      ],
      "metadata": {
        "colab": {
          "base_uri": "https://localhost:8080/"
        },
        "id": "bhjVlKyJtoda",
        "outputId": "11a62993-d8dc-4aaa-b60a-e792a3cf5a07"
      },
      "execution_count": null,
      "outputs": [
        {
          "output_type": "stream",
          "name": "stdout",
          "text": [
            "['heads' 'side' 'tails']\n"
          ]
        }
      ]
    },
    {
      "cell_type": "code",
      "source": [
        "print(counts) # miks see split erinev eelnevast sum.?"
      ],
      "metadata": {
        "colab": {
          "base_uri": "https://localhost:8080/"
        },
        "id": "a5CEDsk9tsPC",
        "outputId": "7983f34a-bf45-4675-cb39-800fd3d4fed0"
      },
      "execution_count": null,
      "outputs": [
        {
          "output_type": "stream",
          "name": "stdout",
          "text": [
            "[3358 3355 3287]\n"
          ]
        }
      ]
    },
    {
      "cell_type": "code",
      "source": [
        "import matplotlib.pyplot as plt\n",
        "plt.bar(unique, counts)\n",
        "\n",
        "# mingi error - ei tohiks olla võrdset jaotust?"
      ],
      "metadata": {
        "colab": {
          "base_uri": "https://localhost:8080/",
          "height": 450
        },
        "id": "NgKGM_gitutW",
        "outputId": "0800e7fe-ae15-4374-95ad-c7e8d6564a47"
      },
      "execution_count": null,
      "outputs": [
        {
          "output_type": "execute_result",
          "data": {
            "text/plain": [
              "<BarContainer object of 3 artists>"
            ]
          },
          "metadata": {},
          "execution_count": 40
        },
        {
          "output_type": "display_data",
          "data": {
            "text/plain": [
              "<Figure size 640x480 with 1 Axes>"
            ],
            "image/png": "[encoded data removed]"
          },
          "metadata": {}
        }
      ]
    },
    {
      "cell_type": "code",
      "source": [
        "import numpy as np\n",
        "coin = ['heads', 'tails', 'side']\n",
        "\n",
        "probabilities = [0.49165, 0.49165, 0.0167] #the probability of the coin landing on a side is 0.0167\n",
        "\n",
        "number_of_throws = 100000\n",
        "\n",
        "throws = np.random.choice(coin, number_of_throws, p =probabilities)\n",
        "\n",
        "print(f\"heads: {np.sum(throws == 'heads')}\")\n",
        "print(f\"tails: {np.sum(throws == 'tails')}\")\n",
        "print(f\"side: {np.sum(throws == 'side')}\")\n",
        "unique, counts = np.unique(throws, return_counts=True )\n",
        "import matplotlib.pyplot as plt\n",
        "plt.bar(unique, counts)\n",
        "\n",
        "import matplotlib.pyplot as plt\n",
        "\n",
        "total_heads_side = np.sum(throws == \"heads\")\n",
        "total_tails_side = np.sum(throws == \"tails\")\n",
        "total_side = np.sum(throws == \"side\")\n",
        "\n",
        "plt.bar(coin, [total_heads_side, total_tails_side, total_side], color=\"teal\")\n",
        "plt.title(\"Coin Toss with Side landing\")\n",
        "plt.xlabel(\"Landing result\")\n",
        "plt.ylabel(\"Frequency\")\n",
        "plt.show()"
      ],
      "metadata": {
        "colab": {
          "base_uri": "https://localhost:8080/",
          "height": 524
        },
        "id": "fBuvcOEkunei",
        "outputId": "476f1f31-d0a4-4d1e-fd6f-079465e29adf"
      },
      "execution_count": null,
      "outputs": [
        {
          "output_type": "stream",
          "name": "stdout",
          "text": [
            "heads: 48666\n",
            "tails: 49611\n",
            "side: 1723\n"
          ]
        },
        {
          "output_type": "display_data",
          "data": {
            "text/plain": [
              "<Figure size 640x480 with 1 Axes>"
            ],
            "image/png": "[encoded data removed]"
          },
          "metadata": {}
        }
      ]
    },
    {
      "cell_type": "markdown",
      "source": [
        "### HISTOGRAM"
      ],
      "metadata": {
        "id": "sh-THrj2u_gf"
      }
    },
    {
      "cell_type": "code",
      "source": [
        "np.random.randint(1,100)\n",
        "\n",
        "np.random.randint(1,100,10)"
      ],
      "metadata": {
        "colab": {
          "base_uri": "https://localhost:8080/"
        },
        "id": "WPW1TkZJu-85",
        "outputId": "bbd402bb-fe9d-437e-b580-2df2069ee742"
      },
      "execution_count": null,
      "outputs": [
        {
          "output_type": "execute_result",
          "data": {
            "text/plain": [
              "array([51, 97, 98,  8, 85, 55, 81,  1, 62, 39])"
            ]
          },
          "metadata": {},
          "execution_count": 42
        }
      ]
    },
    {
      "cell_type": "code",
      "source": [
        "numbers = np.random.randint(1,101,100000) #100000 numbers in object number\n",
        "\n",
        "# numbers 1 included, 101 not included"
      ],
      "metadata": {
        "id": "TmB4DjqIvfxt"
      },
      "execution_count": null,
      "outputs": []
    },
    {
      "cell_type": "code",
      "source": [
        "plt.hist(numbers, bins = 10, color= 'skyblue', edgecolor='black', alpha=0.7)\n",
        "plt.title('Frequency of random integers from [1,100]')\n",
        "\n",
        "# uniform distribution --> each number has similar probability to be selected"
      ],
      "metadata": {
        "colab": {
          "base_uri": "https://localhost:8080/",
          "height": 469
        },
        "id": "730G3n_RvxMK",
        "outputId": "8eb116b6-964d-41c5-e075-0e4627ec4386"
      },
      "execution_count": null,
      "outputs": [
        {
          "output_type": "execute_result",
          "data": {
            "text/plain": [
              "Text(0.5, 1.0, 'Frequency of random integers from [1,100]')"
            ]
          },
          "metadata": {},
          "execution_count": 49
        },
        {
          "output_type": "display_data",
          "data": {
            "text/plain": [
              "<Figure size 640x480 with 1 Axes>"
            ],
            "image/png": "[encoded data removed]"
          },
          "metadata": {}
        }
      ]
    },
    {
      "cell_type": "code",
      "source": [],
      "metadata": {
        "id": "DIR1VFChwrqr"
      },
      "execution_count": null,
      "outputs": []
    }
  ]
}